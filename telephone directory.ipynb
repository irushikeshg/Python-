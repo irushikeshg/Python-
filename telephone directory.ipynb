{
 "cells": [
  {
   "cell_type": "code",
   "execution_count": 1,
   "metadata": {
    "collapsed": false
   },
   "outputs": [
    {
     "data": {
      "text/plain": [
       "\"\\nWhat's next:\\n(q)  Quit\\n(a)  Add new Entry\\n(v)  View all Entries\\n(s)  General Search\\n(si) Search by Initials\\n(sn) Search by Name\\n(g)  Search by Name GUI Display\\n> \""
      ]
     },
     "execution_count": 1,
     "metadata": {},
     "output_type": "execute_result"
    }
   ],
   "source": [
    "\"\"\"\n",
    "What's next:\n",
    "(q)  Quit\n",
    "(a)  Add new Entry\n",
    "(v)  View all Entries\n",
    "> \"\"\""
   ]
  },
  {
   "cell_type": "code",
   "execution_count": 6,
   "metadata": {
    "collapsed": true
   },
   "outputs": [],
   "source": [
    "from easygui import *\n",
    "import sys"
   ]
  },
  {
   "cell_type": "code",
   "execution_count": 36,
   "metadata": {
    "collapsed": false
   },
   "outputs": [
    {
     "name": "stdout",
     "output_type": "stream",
     "text": [
      "[0]\n",
      "[0]\n",
      "[0]\n"
     ]
    },
    {
     "ename": "SystemExit",
     "evalue": "0",
     "output_type": "error",
     "traceback": [
      "An exception has occurred, use %tb to see the full traceback.\n",
      "\u001b[0;31mSystemExit\u001b[0m\u001b[0;31m:\u001b[0m 0\n"
     ]
    }
   ],
   "source": [
    "fieldstr=[]\n",
    "fieldlistval = []\n",
    "while 1:\n",
    "    msg = \"Enter your personal information\"\n",
    "    title = \"Credit Card Application\"\n",
    "    choices=[\"Add new Entry\",\"View all Entries\"]\n",
    "    choice = choicebox(msg,title, choices)\n",
    "    if choice == \"Add new Entry\":\n",
    "        fieldNames = [\"Name\",\"Mobile Number\",\"e-mail\"]\n",
    "        fieldValues = []  # we start with blanks for the values\n",
    "        fieldValues = multenterbox(msg,title, fieldNames)\n",
    "        fieldlistval.append(fieldValues)\n",
    "        fieldval = ','.join(fieldValues)\n",
    "        fieldstr.append(fieldval)\n",
    "    elif choice == \"View all Entries\":\n",
    "        for i in range(len(fieldstr)):\n",
    "            fieldstr[i] = fieldstr[i]+'\\n'\n",
    "        msgbox(','.join(fieldstr))\n",
    "    if ccbox(msg='Do you wish to continue?', title=' ', choices=('Continue', 'Cancel'), image=None):     # show a Continue/Cancel dialog\n",
    "        pass  # user chose Continue\n",
    "    else:\n",
    "        sys.exit(0)\n",
    "print(fieldValues)\n",
    "\n"
   ]
  },
  {
   "cell_type": "code",
   "execution_count": 2,
   "metadata": {
    "collapsed": false
   },
   "outputs": [],
   "source": [
    "from Tkinter import *\n",
    "from phones import *\n",
    "\n",
    "\n",
    "def which_selected():\n",
    "    print(\"At {0}\".format(select.curselection()))\n",
    "    return int(select.curselection()[0])\n",
    "\n",
    "\n",
    "def add_entry():\n",
    "    phonelist.append([fnamevar.get(), lnamevar.get(), phonevar.get()])\n",
    "    set_select()\n",
    "\n",
    "def delete_entry():\n",
    "    del phonelist[which_selected()]\n",
    "    set_select()\n",
    "\n",
    "\n",
    "def load_entry():\n",
    "    fname, lname, phone = phonelist[which_selected()]\n",
    "    fnamevar.set(fname)\n",
    "    lnamevar.set(lname)\n",
    "    phonevar.set(phone)\n",
    "\n",
    "\n",
    "def make_window():\n",
    "    global fnamevar, lnamevar, phonevar, select\n",
    "    win = Tk()\n",
    "\n",
    "    frame1 = Frame(win)\n",
    "    frame1.pack()\n",
    "\n",
    "    Label(frame1, text=\"First Name\").grid(row=0, column=0, sticky=W)\n",
    "    fnamevar = StringVar()\n",
    "    fname = Entry(frame1, textvariable=fnamevar)\n",
    "    fname.grid(row=0, column=1, sticky=W)\n",
    "\n",
    "    Label(frame1, text=\"Last Name\").grid(row=1, column=0, sticky=W)\n",
    "    lnamevar = StringVar()\n",
    "    lname = Entry(frame1, textvariable=lnamevar)\n",
    "    lname.grid(row=1, column=1, sticky=W)\n",
    "\n",
    "    Label(frame1, text=\"Phone\").grid(row=2, column=0, sticky=W)\n",
    "    phonevar = StringVar()\n",
    "    phone = Entry(frame1, textvariable=phonevar)\n",
    "    phone.grid(row=2, column=1, sticky=W)\n",
    "\n",
    "    frame2 = Frame(win)       # Row of buttons\n",
    "    frame2.pack()\n",
    "    b1 = Button(frame2, text=\" Add  \", command=add_entry)\n",
    "    #b2 = Button(frame2, text=\"Update\", command=update_entry)\n",
    "    b2 = Button(frame2, text=\"Delete\", command=delete_entry)\n",
    "    b3 = Button(frame2, text=\"Load  \", command=load_entry)\n",
    "    b4 = Button(frame2, text=\"Refresh\", command=set_select)\n",
    "    b1.pack(side=LEFT)\n",
    "    #b2.pack(side=LEFT)\n",
    "    b2.pack(side=LEFT)\n",
    "    b3.pack(side=LEFT)\n",
    "    b4.pack(side=LEFT)\n",
    "\n",
    "    frame3 = Frame(win)       # select of names\n",
    "    frame3.pack()\n",
    "    scroll = Scrollbar(frame3, orient=VERTICAL)\n",
    "    select = Listbox(frame3, yscrollcommand=scroll.set, height=6)\n",
    "    scroll.config(command=select.yview)\n",
    "    scroll.pack(side=RIGHT, fill=Y)\n",
    "    select.pack(side=LEFT, fill=BOTH, expand=1)\n",
    "    return win\n",
    "\n",
    "\n",
    "def set_select():\n",
    "    phonelist.sort(key=lambda record: record[1])\n",
    "    select.delete(0, END)\n",
    "    for fname, lname, phone in phonelist:\n",
    "        select.insert(END, \"{0}, {1}\".format(lname, fname))\n",
    "\n",
    "\n",
    "win = make_window()\n",
    "set_select()\n",
    "win.mainloop()"
   ]
  },
  {
   "cell_type": "code",
   "execution_count": 3,
   "metadata": {
    "collapsed": false
   },
   "outputs": [
    {
     "name": "stdout",
     "output_type": "stream",
     "text": [
      "*****TELEPHONE DIRECTORY***\n",
      "Enter the number of contacts : 1\n",
      "Enter your name: sqq\n",
      "Enter your phone number: 123\n",
      "{'sqq': 123}\n",
      "\n",
      "         1:Add a contact\n",
      "         2:Search a contact\n",
      "         3:Delete a contact\n",
      "         4:Update a contact\n",
      "         5:View directory\n",
      "         6:Exit\n",
      "Enter your choice4\n",
      "Enter the name which you want to update: sqq\n",
      "Enter the new number544323\n",
      "{'sqq': 544323}\n"
     ]
    }
   ],
   "source": [
    "\n",
    "print \"*****TELEPHONE DIRECTORY***\"\n",
    "list1=[]\n",
    "list2=[]\n",
    "dict1={}\n",
    "temp=100\n",
    "n=input(\"Enter the number of contacts : \")\n",
    "for i in range(0,n):\n",
    "    name1=raw_input(\"Enter your name: \")\n",
    "    num=input(\"Enter your phone number: \")\n",
    "    list1.extend([name1])\n",
    "    list2.extend([num])\n",
    "    dict1=dict(zip(list1,list2))#to convert two list into dictionary\n",
    "print dict1\n",
    "print \"\"\"\n",
    "         1:Add a contact\n",
    "         2:Search a contact\n",
    "         3:Delete a contact\n",
    "         4:Update a contact\n",
    "         5:View directory\n",
    "         6:Exit\"\"\"\n",
    "choice=input(\"Enter your choice\")\n",
    "def add(dict1):\n",
    "    name3=raw_input(\"Enter the new name you want to add: \")\n",
    "    num3=input(\"Enter the number: \")\n",
    "    dict1[name3]=num3\n",
    "    print dict1\n",
    "def search(dict1,n,list1,temp):\n",
    "    name2=raw_input(\"Enter the name whose number is to be found: \")\n",
    "    for i in range(0,n):\n",
    "        if list1[i]==name2:\n",
    "            temp=i\n",
    "    if temp!=100:\n",
    "        print \"Number is : \",list2[temp]\n",
    "def delete(dict1):\n",
    "    name4=raw_input(\"Enter the name you want to delete: \")\n",
    "    del dict1[name4]\n",
    "    print dict1\n",
    "def update(dict1,n,list1):\n",
    "    name5=raw_input(\"Enter the name which you want to update: \")\n",
    "    for i in range(0,n):\n",
    "        if list1[i]==name5:\n",
    "            temp=i\n",
    "    if temp!=100:\n",
    "        num5=input(\"Enter the new number\")\n",
    "        dict1[name5]=num5\n",
    "    print dict1\n",
    "def view(dict1):\n",
    "    print dict1\n",
    "if (choice==1):\n",
    "    add(dict1)\n",
    "elif (choice==2):\n",
    "   search(dict1,n,list1,temp)\n",
    "elif (choice==3):\n",
    "    delete(dict1)\n",
    "elif (choice==4):\n",
    "    update(dict1,n,list1)\n",
    "else:\n",
    "    view(dict1)\n"
   ]
  },
  {
   "cell_type": "code",
   "execution_count": null,
   "metadata": {
    "collapsed": true
   },
   "outputs": [],
   "source": []
  }
 ],
 "metadata": {
  "kernelspec": {
   "display_name": "Python 2",
   "language": "python",
   "name": "python2"
  },
  "language_info": {
   "codemirror_mode": {
    "name": "ipython",
    "version": 2
   },
   "file_extension": ".py",
   "mimetype": "text/x-python",
   "name": "python",
   "nbconvert_exporter": "python",
   "pygments_lexer": "ipython2",
   "version": "2.7.13"
  }
 },
 "nbformat": 4,
 "nbformat_minor": 2
}
