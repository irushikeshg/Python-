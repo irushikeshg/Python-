{
 "cells": [
  {
   "cell_type": "raw",
   "metadata": {},
   "source": [
    "Reference: \n",
    "1. \"A Comprehensive Introduction to Python Programming and GUI Design Using Tkinter\" by Bruno Dufour\n",
    "2. Tutorial Tkinter Master -- Github(by Nikhil Dhandre)\n"
   ]
  },
  {
   "cell_type": "markdown",
   "metadata": {},
   "source": [
    "\n",
    "# Why Tkinter?"
   ]
  },
  {
   "cell_type": "markdown",
   "metadata": {},
   "source": [
    "**Layered design** \n",
    "The layered approach used in designing Tkinter gives Tkinter\n",
    "all of the advantages of the TK library. Therefore, at the time of creation, Tkinter\n",
    "inherited from the benefits of a GUI toolkit that had been given time to mature.\n",
    "This makes early versions of Tkinter a lot more stable and reliable than if it had\n",
    "been rewritten from scratch. Moreover, the conversion from Tcl/Tk to Tkinter is\n",
    "really trivial, so that Tk programmers can learn to use Tkinter very easily."
   ]
  },
  {
   "cell_type": "markdown",
   "metadata": {},
   "source": [
    "**Accessibility** \n",
    "Learning Tkinter is very intuitive, and therefore quick and painless.\n",
    "The Tkinter implementation hides the detailed and complicated calls in simple,\n",
    "intuitive methods. This is a continuation of the Python way of thinking, since the\n",
    "language excels at quickly building prototypes. It is therefore expected that its\n",
    "preferred GUI library be implemented using the same approach."
   ]
  },
  {
   "cell_type": "markdown",
   "metadata": {},
   "source": [
    "**Portability** Python scripts that use Tkinter do not require modifications to be\n",
    "ported from one platform to the other. Tkinter is available for any platform\n",
    "that Python is implemented for, namely Microsoft Windows, X Windows, and\n",
    "Macintosh. This gives it a great advantage over most competing libraries, which\n",
    "are often restricted to one or two platforms. Moreover, Tkinter will provide the\n",
    "native look-and-feel of the specific platform it runs on."
   ]
  },
  {
   "cell_type": "markdown",
   "metadata": {},
   "source": [
    "**Availability** Tkinter is now included in any Python distribution. Therefore, no\n",
    "supplementary modules are required in order to run scripts using Tkinter."
   ]
  },
  {
   "cell_type": "code",
   "execution_count": 2,
   "metadata": {
    "collapsed": false
   },
   "outputs": [],
   "source": [
    "import Tkinter as tk"
   ]
  },
  {
   "cell_type": "markdown",
   "metadata": {},
   "source": [
    "In order to fully understand the advantages that Tkinter has to offer, it is necessary to\n",
    "see some examples demonstrating just how simple programming using this toolkit can\n",
    "be. Let’s start with a more detailed explanation of the example presented above."
   ]
  },
  {
   "cell_type": "code",
   "execution_count": 3,
   "metadata": {
    "collapsed": true
   },
   "outputs": [],
   "source": [
    "from Tkinter import *\n",
    "root = Tk()\n",
    "root.title ('A simple application')\n",
    "root.mainloop()"
   ]
  },
  {
   "cell_type": "markdown",
   "metadata": {},
   "source": [
    "Let’s analyze the code line by line."
   ]
  },
  {
   "cell_type": "raw",
   "metadata": {},
   "source": [
    "from Tkinter import *"
   ]
  },
  {
   "cell_type": "markdown",
   "metadata": {},
   "source": [
    "This line imports the whole Tkinter library. It must present in every Tkinter program."
   ]
  },
  {
   "cell_type": "raw",
   "metadata": {},
   "source": [
    "root = Tk()"
   ]
  },
  {
   "cell_type": "markdown",
   "metadata": {},
   "source": [
    "This line creates a complete window, called the Tk root widget. There should be only\n",
    "one root widget per application, and it must be created before all other widgets. This\n",
    "does not mean that Tkinter applications cannot have multiple windows at the same\n",
    "time."
   ]
  },
  {
   "cell_type": "raw",
   "metadata": {},
   "source": [
    "root.title(’A simple application’)"
   ]
  },
  {
   "cell_type": "markdown",
   "metadata": {},
   "source": [
    "This line invokes a method of the Tk root widget instance to set its title to ’A simple\n",
    "application’.text in the window. The next example will use another widget to achieve a similar goal.\n"
   ]
  },
  {
   "cell_type": "raw",
   "metadata": {},
   "source": [
    "root.title(’A simple application’)"
   ]
  },
  {
   "cell_type": "markdown",
   "metadata": {},
   "source": [
    "This line invokes a method of the Tk root widget instance to set its title to ’A simple\n",
    "application’. For the purposes of this example, this is the simplest way of displaying\n",
    "text in the window."
   ]
  },
  {
   "cell_type": "raw",
   "metadata": {},
   "source": [
    "root.mainloop( )"
   ]
  },
  {
   "cell_type": "markdown",
   "metadata": {},
   "source": [
    "The call to mainloop makes the application enter its event loop, ie it makes it able to respond to user events, such as mouse events and keyboard events."
   ]
  },
  {
   "cell_type": "markdown",
   "metadata": {},
   "source": [
    "For example,here is the code for a typical “Hello world”-like application:"
   ]
  },
  {
   "cell_type": "markdown",
   "metadata": {},
   "source": [
    "## Widgets:\n",
    "\n",
    "- button\n",
    "- canvas\n",
    "- checkbutton\n",
    "- combobox\n",
    "- entry\n",
    "- frame\n",
    "- label\n",
    "- labelframe\n",
    "- listbox\n",
    "- menu\n",
    "- menubutton\n",
    "- message\n",
    "- notebook\n",
    "- tk_optionMenu\n",
    "- panedwindow\n",
    "- progressbar\n",
    "- radiobutton\n",
    "- scale\n",
    "- scrollbar\n",
    "- separator\n",
    "- sizegrip\n",
    "- spinbox\n",
    "- text\n",
    "- treeview"
   ]
  },
  {
   "cell_type": "markdown",
   "metadata": {},
   "source": [
    "## Top-level windows:\n",
    "\n",
    "- tk_chooseColorpops  : up a dialog box for the user to select a color.\n",
    "- tk_chooseDirectory  : pops up a dialog box for the user to select a directory.\n",
    "- tk_dialog           : creates a modal dialog and waits for a response.\n",
    "- tk_getOpenFile      : pops up a dialog box for the user to select a file to open.\n",
    "- tk_getSaveFile      : pops up a dialog box for the user to select a file to save.\n",
    "- tk_messageBox       : pops up a message window and waits for a user response.\n",
    "- tk_popup            : posts a popup menu.\n",
    "- toplevel            : creates and manipulates toplevel widgets."
   ]
  },
  {
   "cell_type": "markdown",
   "metadata": {},
   "source": [
    "## Geometry managers:\n",
    "1. place : which positions widgets at absolute locations\n",
    "2. grid  : which arranges widgets in a grid\n",
    "3. pack  : which packs widgets into a cavity"
   ]
  },
  {
   "cell_type": "markdown",
   "metadata": {},
   "source": [
    "## Package Installation\n",
    "- pip install tkinter (Windows)\n",
    "- sudo apt-get install python python-tk (Ubuntu)\n",
    "- To install this package with conda run one of the following:(In Anaconda)\n",
    "    1. conda install -c conda-forge tk\n",
    "    2. conda install -c conda-forge/label/gcc7 tk\n",
    "    3. conda install -c conda-forge/label/broken tk "
   ]
  },
  {
   "cell_type": "markdown",
   "metadata": {},
   "source": [
    "## Tkinter: Labels\n",
    "- Label is simple think to display view only data\n",
    "- With label you can not interact\n",
    "- Mainly two type of labels\n",
    "    1. text label\n",
    "    2. image label"
   ]
  },
  {
   "cell_type": "markdown",
   "metadata": {},
   "source": [
    "## Use of normal Lable"
   ]
  },
  {
   "cell_type": "code",
   "execution_count": 6,
   "metadata": {
    "collapsed": false
   },
   "outputs": [],
   "source": [
    "import Tkinter as tk\n",
    "root = tk.Tk()\n",
    "\n",
    "label = tk.Label(root, text=\"Hello World\", padx=50, pady=100)\n",
    "label.pack()\n",
    "root.mainloop()"
   ]
  },
  {
   "cell_type": "code",
   "execution_count": 8,
   "metadata": {
    "collapsed": false
   },
   "outputs": [
    {
     "ename": "SystemExit",
     "evalue": "0",
     "output_type": "error",
     "traceback": [
      "An exception has occurred, use %tb to see the full traceback.\n",
      "\u001b[0;31mSystemExit\u001b[0m\u001b[0;31m:\u001b[0m 0\n"
     ]
    },
    {
     "name": "stderr",
     "output_type": "stream",
     "text": [
      "/home/sujit/anaconda2/lib/python2.7/site-packages/IPython/core/interactiveshell.py:2889: UserWarning: To exit: use 'exit', 'quit', or Ctrl-D.\n",
      "  warn(\"To exit: use 'exit', 'quit', or Ctrl-D.\", stacklevel=1)\n"
     ]
    }
   ],
   "source": [
    "from Tkinter import *\n",
    "def quit ():\n",
    "    import sys ; sys.exit(0)\n",
    "root = Tk()\n",
    "lbl = Label(root,text =\"Press the button below to exit\")\n",
    "lbl.pack()\n",
    "btn = Button (root,text =\"Quit\",command = quit)\n",
    "btn.pack()\n",
    "root.mainloop()"
   ]
  },
  {
   "cell_type": "code",
   "execution_count": 11,
   "metadata": {
    "collapsed": false
   },
   "outputs": [],
   "source": [
    "from Tkinter import *\n",
    "root = Tk()\n",
    "root.title(\"Dynamic Label\")\n",
    "\n",
    "def stop():\n",
    "    root.destroy()\n",
    "\n",
    "c=0\n",
    "def start():\n",
    "    def count():\n",
    "        global c\n",
    "        c+=1\n",
    "        w.config(text=str(c))\n",
    "        w.after(1000,count)\n",
    "    count()\n",
    "w = Label(root, justify=CENTER,font=(\"Helvetica\", 32))\n",
    "w.pack()\n",
    "start()\n",
    "b= Button(root, text=\"Stop\", command = stop)\n",
    "b.pack()\n",
    "root.mainloop()"
   ]
  },
  {
   "cell_type": "code",
   "execution_count": null,
   "metadata": {
    "collapsed": false
   },
   "outputs": [],
   "source": [
    "from Tkinter import *\n",
    "root = Tk()\n",
    "data = \"Python Pune\"\n",
    "w = Label(root,\n",
    "         fg='Green',\n",
    "         bg='Blue',\n",
    "         text=data,\n",
    "         font=(\"Helvetica\", 64)\n",
    ")\n",
    "w.pack()\n",
    "root.mainloop()"
   ]
  },
  {
   "cell_type": "code",
   "execution_count": null,
   "metadata": {
    "collapsed": true
   },
   "outputs": [],
   "source": []
  }
 ],
 "metadata": {
  "kernelspec": {
   "display_name": "Python 2",
   "language": "python",
   "name": "python2"
  },
  "language_info": {
   "codemirror_mode": {
    "name": "ipython",
    "version": 2
   },
   "file_extension": ".py",
   "mimetype": "text/x-python",
   "name": "python",
   "nbconvert_exporter": "python",
   "pygments_lexer": "ipython2",
   "version": "2.7.13"
  }
 },
 "nbformat": 4,
 "nbformat_minor": 2
}
