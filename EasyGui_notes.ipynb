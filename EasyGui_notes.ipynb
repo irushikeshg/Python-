{
 "cells": [
  {
   "cell_type": "code",
   "execution_count": 2,
   "metadata": {
    "collapsed": true
   },
   "outputs": [],
   "source": [
    "from easygui import *\n",
    "import sys"
   ]
  },
  {
   "cell_type": "code",
   "execution_count": 2,
   "metadata": {
    "collapsed": false
   },
   "outputs": [
    {
     "name": "stdout",
     "output_type": "stream",
     "text": [
      "[0]\n",
      "[0]\n",
      "[0]\n"
     ]
    },
    {
     "ename": "SystemExit",
     "evalue": "0",
     "output_type": "error",
     "traceback": [
      "An exception has occurred, use %tb to see the full traceback.\n",
      "\u001b[0;31mSystemExit\u001b[0m\u001b[0;31m:\u001b[0m 0\n"
     ]
    },
    {
     "name": "stderr",
     "output_type": "stream",
     "text": [
      "/home/sujit/anaconda2/lib/python2.7/site-packages/IPython/core/interactiveshell.py:2889: UserWarning: To exit: use 'exit', 'quit', or Ctrl-D.\n",
      "  warn(\"To exit: use 'exit', 'quit', or Ctrl-D.\", stacklevel=1)\n"
     ]
    }
   ],
   "source": [
    "while 1:\n",
    "    msgbox(\"Hello, world!\")\n",
    "\n",
    "    msg =\"What is your favorite flavor?\"\n",
    "    title = \"Ice Cream Survey\"\n",
    "    choices = [\"Vanilla\", \"Chocolate\", \"Strawberry\", \"Rocky Road\"]\n",
    "    choice = choicebox(msg, title, choices)\n",
    "\n",
    "    # note that we convert choice to string, in case\n",
    "    # the user cancelled the choice, and we got None.\n",
    "    msgbox(\"You chose: \" + str(choice), \"Survey Result\")\n",
    "\n",
    "    msg = \"Do you want to continue?\"\n",
    "    title = \"Please Confirm\"\n",
    "    if ccbox(msg, title):     # show a Continue/Cancel dialog\n",
    "        pass  # user chose Continue\n",
    "    else:\n",
    "        sys.exit(0) "
   ]
  },
  {
   "cell_type": "code",
   "execution_count": 21,
   "metadata": {
    "collapsed": false,
    "scrolled": true
   },
   "outputs": [],
   "source": [
    "abouteasygui()"
   ]
  },
  {
   "cell_type": "code",
   "execution_count": 22,
   "metadata": {
    "collapsed": false
   },
   "outputs": [
    {
     "name": "stdout",
     "output_type": "stream",
     "text": [
      "\n",
      "\n",
      "\n",
      "\n",
      "\n",
      "\n",
      "\n",
      "\n",
      "\n",
      "\n",
      "\n",
      "\n",
      "\n",
      "\n",
      "\n",
      "\n",
      "\n",
      "\n",
      "\n",
      "\n",
      "\n",
      "\n",
      "\n",
      "\n",
      "\n",
      "\n",
      "\n",
      "\n",
      "\n",
      "\n",
      "\n",
      "\n",
      "\n",
      "\n",
      "\n",
      "\n",
      "\n",
      "\n",
      "\n",
      "\n",
      "\n",
      "\n",
      "\n",
      "\n",
      "\n",
      "\n",
      "\n",
      "\n",
      "\n",
      "\n",
      "\n",
      "\n",
      "\n",
      "\n",
      "\n",
      "\n",
      "\n",
      "\n",
      "\n",
      "\n",
      "\n",
      "\n",
      "\n",
      "\n",
      "\n",
      "\n",
      "\n",
      "\n",
      "\n",
      "\n",
      "\n",
      "\n",
      "\n",
      "\n",
      "\n",
      "\n",
      "\n",
      "\n",
      "\n",
      "\n",
      "\n",
      "\n",
      "\n",
      "\n",
      "\n",
      "\n",
      "\n",
      "\n",
      "\n",
      "\n",
      "\n",
      "\n",
      "\n",
      "\n",
      "\n",
      "\n",
      "\n",
      "\n",
      "\n",
      "\n",
      "\n",
      "[0]\n",
      "passwordbox\n",
      "Reply was: asdadsa\n",
      "Reply was: None\n",
      "[1]\n"
     ]
    }
   ],
   "source": [
    "egdemo()"
   ]
  },
  {
   "cell_type": "code",
   "execution_count": 4,
   "metadata": {
    "collapsed": false
   },
   "outputs": [
    {
     "data": {
      "text/plain": [
       "'starbux'"
      ]
     },
     "execution_count": 4,
     "metadata": {},
     "output_type": "execute_result"
    }
   ],
   "source": [
    "buttonbox(msg='Which Choclate', title=' ', choices=('starbux', 'milkyway', '5star'), image=None)\n",
    "#help(buttonbox)"
   ]
  },
  {
   "cell_type": "code",
   "execution_count": 71,
   "metadata": {
    "collapsed": false
   },
   "outputs": [
    {
     "name": "stdout",
     "output_type": "stream",
     "text": [
      "Help on function ccbox in module easygui.boxes.derived_boxes:\n",
      "\n",
      "ccbox(msg='Shall I continue?', title=' ', choices=('C[o]ntinue', 'C[a]ncel'), image=None, default_choice='Continue', cancel_choice='Cancel')\n",
      "    Display a msgbox with choices of Continue and Cancel.\n",
      "    \n",
      "    The returned value is calculated this way::\n",
      "    \n",
      "        if the first choice (\"Continue\") is chosen,\n",
      "          or if the dialog is cancelled:\n",
      "            return True\n",
      "        else:\n",
      "            return False\n",
      "    \n",
      "    If invoked without a msg argument, displays a generic\n",
      "    request for a confirmation\n",
      "    that the user wishes to continue.  So it can be used this way::\n",
      "    \n",
      "        if ccbox():\n",
      "            pass # continue\n",
      "        else:\n",
      "            sys.exit(0)  # exit the program\n",
      "    \n",
      "    :param str msg: the msg to be displayed\n",
      "    :param str title: the window title\n",
      "    :param list choices: a list or tuple of the choices to be displayed\n",
      "    :param str image: Filename of image to display\n",
      "    :param str default_choice: The choice you want highlighted\n",
      "      when the gui appears\n",
      "    :param str cancel_choice: If the user presses the 'X' close,\n",
      "      which button should be pressed\n",
      "    \n",
      "    :return: True if 'Continue' or dialog is cancelled, False if 'Cancel'\n",
      "\n"
     ]
    }
   ],
   "source": [
    "ccbox(msg='Shall I continue?', title=' ', choices=('Continue', 'Cancel'), image=None)\n",
    "help(ccbox)"
   ]
  },
  {
   "cell_type": "code",
   "execution_count": 3,
   "metadata": {
    "collapsed": false
   },
   "outputs": [
    {
     "name": "stdout",
     "output_type": "stream",
     "text": [
      "[0]\n"
     ]
    },
    {
     "data": {
      "text/plain": [
       "'plants'"
      ]
     },
     "execution_count": 3,
     "metadata": {},
     "output_type": "execute_result"
    }
   ],
   "source": [
    "choicebox(msg='Pick something.', title=' ', choices=('fruits','vegetables','plants'))\n",
    "#help(choicebox)"
   ]
  },
  {
   "cell_type": "code",
   "execution_count": 28,
   "metadata": {
    "collapsed": false
   },
   "outputs": [
    {
     "data": {
      "text/plain": [
       "u'import easygui as es\\nes.msgbox()'"
      ]
     },
     "execution_count": 28,
     "metadata": {},
     "output_type": "execute_result"
    }
   ],
   "source": [
    "codebox(msg='', title=' ', text='')\n",
    "#help(codebox)"
   ]
  },
  {
   "cell_type": "code",
   "execution_count": 27,
   "metadata": {
    "collapsed": false
   },
   "outputs": [],
   "source": [
    "diropenbox(msg=None, title=None, default='/home/sujit/Desktop')\n",
    "#help(diropenbox)"
   ]
  },
  {
   "cell_type": "code",
   "execution_count": 8,
   "metadata": {
    "collapsed": false
   },
   "outputs": [
    {
     "data": {
      "text/plain": [
       "'Passward'"
      ]
     },
     "execution_count": 8,
     "metadata": {},
     "output_type": "execute_result"
    }
   ],
   "source": [
    "enterbox(msg='Enter something.', title=' ', default='', strip=True, image=None, root=None)\n",
    "#help(enterbox)"
   ]
  },
  {
   "cell_type": "code",
   "execution_count": 29,
   "metadata": {
    "collapsed": false
   },
   "outputs": [],
   "source": [
    "exceptionbox(msg='Syntax Error', title=None,)\n",
    "#help(exceptionbox)"
   ]
  },
  {
   "cell_type": "code",
   "execution_count": 32,
   "metadata": {
    "collapsed": false
   },
   "outputs": [
    {
     "data": {
      "text/plain": [
       "['/home/sujit/python_paper.docx',\n",
       " '/home/sujit/python_syllabus.docx',\n",
       " '/home/sujit/re-registered backlog Summer Term T.Y.B.Tech.xlsx',\n",
       " '/home/sujit/research_data.xlsx',\n",
       " '/home/sujit/results_filters_50.xlsx']"
      ]
     },
     "execution_count": 32,
     "metadata": {},
     "output_type": "execute_result"
    }
   ],
   "source": [
    "fileopenbox(msg=None, title=None, default='*', filetypes=None, multiple= True)\n",
    "#help(fileopenbox)"
   ]
  },
  {
   "cell_type": "code",
   "execution_count": 33,
   "metadata": {
    "collapsed": false
   },
   "outputs": [
    {
     "name": "stdout",
     "output_type": "stream",
     "text": [
      "Help on function filesavebox in module easygui.boxes.filesave_box:\n",
      "\n",
      "filesavebox(msg=None, title=None, default='', filetypes=None)\n",
      "    A file to get the name of a file to save.\n",
      "    Returns the name of a file, or None if user chose to cancel.\n",
      "    \n",
      "    The \"default\" argument should contain a filename (i.e. the\n",
      "    current name of the file to be saved).  It may also be empty,\n",
      "    or contain a filemask that includes wildcards.\n",
      "    \n",
      "    The \"filetypes\" argument works like the \"filetypes\" argument to\n",
      "    fileopenbox.\n",
      "    \n",
      "    :param str msg: the msg to be displayed.\n",
      "    :param str title: the window title\n",
      "    :param str default: default filename to return\n",
      "    :param object filetypes: filemasks that a user can choose, e.g. \" \\*.txt\"\n",
      "    :return: the name of a file, or None if user chose to cancel\n",
      "\n"
     ]
    }
   ],
   "source": [
    "filesavebox(msg=None, title=None, default='', filetypes=None)\n",
    "help(filesavebox)"
   ]
  },
  {
   "cell_type": "code",
   "execution_count": 34,
   "metadata": {
    "collapsed": false
   },
   "outputs": [
    {
     "data": {
      "text/plain": [
       "0"
      ]
     },
     "execution_count": 34,
     "metadata": {},
     "output_type": "execute_result"
    }
   ],
   "source": [
    "indexbox(msg='Shall I continue?', title=' ', choices=('Yes', 'No'), image=None)"
   ]
  },
  {
   "cell_type": "code",
   "execution_count": 37,
   "metadata": {
    "collapsed": false
   },
   "outputs": [],
   "source": [
    "msgbox(msg='(Your message goes here)', title=' ', ok_button='OK', image=None, root=None)"
   ]
  },
  {
   "cell_type": "code",
   "execution_count": 39,
   "metadata": {
    "collapsed": false
   },
   "outputs": [
    {
     "name": "stdout",
     "output_type": "stream",
     "text": [
      "[0]\n",
      "Help on function multchoicebox in module easygui.boxes.choice_box:\n",
      "\n",
      "multchoicebox(msg='Pick an item', title='', choices=[], preselect=0, callback=None, run=True)\n",
      "    Same as choicebox, but the user can select many items.\n",
      "\n"
     ]
    }
   ],
   "source": [
    "multchoicebox(msg='Pick as many items as you like.', title=' ', choices=())\n",
    "help(multchoicebox)"
   ]
  },
  {
   "cell_type": "code",
   "execution_count": 40,
   "metadata": {
    "collapsed": false
   },
   "outputs": [
    {
     "ename": "TypeError",
     "evalue": "'NoneType' object is not iterable",
     "output_type": "error",
     "traceback": [
      "\u001b[0;31m---------------------------------------------------------------------------\u001b[0m",
      "\u001b[0;31mTypeError\u001b[0m                                 Traceback (most recent call last)",
      "\u001b[0;32m<ipython-input-40-0721651d8af2>\u001b[0m in \u001b[0;36m<module>\u001b[0;34m()\u001b[0m\n\u001b[0;32m----> 1\u001b[0;31m \u001b[0mmultenterbox\u001b[0m\u001b[0;34m(\u001b[0m\u001b[0mmsg\u001b[0m\u001b[0;34m=\u001b[0m\u001b[0;34m'Fill in values for the fields.'\u001b[0m\u001b[0;34m,\u001b[0m \u001b[0mtitle\u001b[0m\u001b[0;34m=\u001b[0m\u001b[0;34m' '\u001b[0m\u001b[0;34m,\u001b[0m \u001b[0mfields\u001b[0m\u001b[0;34m=\u001b[0m\u001b[0;34m(\u001b[0m\u001b[0;34m)\u001b[0m\u001b[0;34m,\u001b[0m \u001b[0mvalues\u001b[0m\u001b[0;34m=\u001b[0m\u001b[0;34m(\u001b[0m\u001b[0;34m)\u001b[0m\u001b[0;34m)\u001b[0m\u001b[0;34m\u001b[0m\u001b[0m\n\u001b[0m",
      "\u001b[0;32m/home/sujit/anaconda2/lib/python2.7/site-packages/easygui/boxes/multi_fillable_box.pyc\u001b[0m in \u001b[0;36mmultenterbox\u001b[0;34m(msg, title, fields, values, callback, run)\u001b[0m\n\u001b[1;32m    131\u001b[0m     \u001b[0;32mif\u001b[0m \u001b[0mrun\u001b[0m\u001b[0;34m:\u001b[0m\u001b[0;34m\u001b[0m\u001b[0m\n\u001b[1;32m    132\u001b[0m         mb = MultiBox(msg, title, fields, values, mask_last=False,\n\u001b[0;32m--> 133\u001b[0;31m                       callback=callback)\n\u001b[0m\u001b[1;32m    134\u001b[0m         \u001b[0mreply\u001b[0m \u001b[0;34m=\u001b[0m \u001b[0mmb\u001b[0m\u001b[0;34m.\u001b[0m\u001b[0mrun\u001b[0m\u001b[0;34m(\u001b[0m\u001b[0;34m)\u001b[0m\u001b[0;34m\u001b[0m\u001b[0m\n\u001b[1;32m    135\u001b[0m         \u001b[0;32mreturn\u001b[0m \u001b[0mreply\u001b[0m\u001b[0;34m\u001b[0m\u001b[0m\n",
      "\u001b[0;32m/home/sujit/anaconda2/lib/python2.7/site-packages/easygui/boxes/multi_fillable_box.pyc\u001b[0m in \u001b[0;36m__init__\u001b[0;34m(self, msg, title, fields, values, mask_last, callback)\u001b[0m\n\u001b[1;32m    181\u001b[0m         \u001b[0mself\u001b[0m\u001b[0;34m.\u001b[0m\u001b[0mcallback\u001b[0m \u001b[0;34m=\u001b[0m \u001b[0mcallback\u001b[0m\u001b[0;34m\u001b[0m\u001b[0m\n\u001b[1;32m    182\u001b[0m \u001b[0;34m\u001b[0m\u001b[0m\n\u001b[0;32m--> 183\u001b[0;31m         \u001b[0mself\u001b[0m\u001b[0;34m.\u001b[0m\u001b[0mfields\u001b[0m\u001b[0;34m,\u001b[0m \u001b[0mself\u001b[0m\u001b[0;34m.\u001b[0m\u001b[0mvalues\u001b[0m \u001b[0;34m=\u001b[0m \u001b[0mself\u001b[0m\u001b[0;34m.\u001b[0m\u001b[0mcheck_fields\u001b[0m\u001b[0;34m(\u001b[0m\u001b[0mfields\u001b[0m\u001b[0;34m,\u001b[0m \u001b[0mvalues\u001b[0m\u001b[0;34m)\u001b[0m\u001b[0;34m\u001b[0m\u001b[0m\n\u001b[0m\u001b[1;32m    184\u001b[0m \u001b[0;34m\u001b[0m\u001b[0m\n\u001b[1;32m    185\u001b[0m         self.ui = GUItk(msg, title, self.fields, self.values,\n",
      "\u001b[0;31mTypeError\u001b[0m: 'NoneType' object is not iterable"
     ]
    }
   ],
   "source": [
    "multenterbox(msg='Fill in values for the fields.', title=' ', fields=(), values=())"
   ]
  },
  {
   "cell_type": "code",
   "execution_count": 7,
   "metadata": {
    "collapsed": false
   },
   "outputs": [
    {
     "name": "stdout",
     "output_type": "stream",
     "text": [
      "['sujit', '', 'pune', 'mah', '']\n"
     ]
    }
   ],
   "source": [
    "msg = \"Enter your personal information\"\n",
    "title = \"Credit Card Application\"\n",
    "fieldNames = [\"Name\",\"Street Address\",\"City\",\"State\",\"ZipCode\"]\n",
    "fieldValues = []  # we start with blanks for the values\n",
    "fieldValues = multenterbox(msg,title, fieldNames)\n",
    "print(fieldValues)"
   ]
  },
  {
   "cell_type": "code",
   "execution_count": 8,
   "metadata": {
    "collapsed": false
   },
   "outputs": [
    {
     "name": "stdout",
     "output_type": "stream",
     "text": [
      "Reply was: None\n"
     ]
    }
   ],
   "source": [
    " # make sure that none of the fields was left blank\n",
    "while 1:\n",
    "        if fieldValues == None: break\n",
    "        errmsg = \"\"\n",
    "        for i in range(len(fieldNames)):\n",
    "            if fieldValues[i].strip() == \"\":\n",
    "                errmsg += ('\"%s\" is a required field.\\n\\n' % fieldNames[i])\n",
    "        if errmsg == \"\":\n",
    "            break # no problems found\n",
    "        fieldValues = multenterbox(errmsg, title, fieldNames, fieldValues)\n",
    " \n",
    "print(\"Reply was: %s\" % str(fieldValues))"
   ]
  },
  {
   "cell_type": "code",
   "execution_count": 9,
   "metadata": {
    "collapsed": false
   },
   "outputs": [
    {
     "ename": "TypeError",
     "evalue": "'NoneType' object is not iterable",
     "output_type": "error",
     "traceback": [
      "\u001b[0;31m---------------------------------------------------------------------------\u001b[0m",
      "\u001b[0;31mTypeError\u001b[0m                                 Traceback (most recent call last)",
      "\u001b[0;32m<ipython-input-9-56ec8d28febf>\u001b[0m in \u001b[0;36m<module>\u001b[0;34m()\u001b[0m\n\u001b[0;32m----> 1\u001b[0;31m \u001b[0mmultpasswordbox\u001b[0m\u001b[0;34m(\u001b[0m\u001b[0mmsg\u001b[0m\u001b[0;34m=\u001b[0m\u001b[0;34m'Fill in values for the fields.'\u001b[0m\u001b[0;34m,\u001b[0m \u001b[0mtitle\u001b[0m\u001b[0;34m=\u001b[0m\u001b[0;34m' '\u001b[0m\u001b[0;34m,\u001b[0m \u001b[0mfields\u001b[0m\u001b[0;34m=\u001b[0m\u001b[0;34m(\u001b[0m\u001b[0;34m)\u001b[0m\u001b[0;34m,\u001b[0m \u001b[0mvalues\u001b[0m\u001b[0;34m=\u001b[0m\u001b[0;34m(\u001b[0m\u001b[0;34m)\u001b[0m\u001b[0;34m)\u001b[0m\u001b[0;34m\u001b[0m\u001b[0m\n\u001b[0m",
      "\u001b[0;32m/home/sujit/anaconda2/lib/python2.7/site-packages/easygui/boxes/multi_fillable_box.pyc\u001b[0m in \u001b[0;36mmultpasswordbox\u001b[0;34m(msg, title, fields, values, callback, run)\u001b[0m\n\u001b[1;32m     65\u001b[0m     \u001b[0;32mif\u001b[0m \u001b[0mrun\u001b[0m\u001b[0;34m:\u001b[0m\u001b[0;34m\u001b[0m\u001b[0m\n\u001b[1;32m     66\u001b[0m         mb = MultiBox(msg, title, fields, values, mask_last=True,\n\u001b[0;32m---> 67\u001b[0;31m                       callback=callback)\n\u001b[0m\u001b[1;32m     68\u001b[0m \u001b[0;34m\u001b[0m\u001b[0m\n\u001b[1;32m     69\u001b[0m         \u001b[0mreply\u001b[0m \u001b[0;34m=\u001b[0m \u001b[0mmb\u001b[0m\u001b[0;34m.\u001b[0m\u001b[0mrun\u001b[0m\u001b[0;34m(\u001b[0m\u001b[0;34m)\u001b[0m\u001b[0;34m\u001b[0m\u001b[0m\n",
      "\u001b[0;32m/home/sujit/anaconda2/lib/python2.7/site-packages/easygui/boxes/multi_fillable_box.pyc\u001b[0m in \u001b[0;36m__init__\u001b[0;34m(self, msg, title, fields, values, mask_last, callback)\u001b[0m\n\u001b[1;32m    181\u001b[0m         \u001b[0mself\u001b[0m\u001b[0;34m.\u001b[0m\u001b[0mcallback\u001b[0m \u001b[0;34m=\u001b[0m \u001b[0mcallback\u001b[0m\u001b[0;34m\u001b[0m\u001b[0m\n\u001b[1;32m    182\u001b[0m \u001b[0;34m\u001b[0m\u001b[0m\n\u001b[0;32m--> 183\u001b[0;31m         \u001b[0mself\u001b[0m\u001b[0;34m.\u001b[0m\u001b[0mfields\u001b[0m\u001b[0;34m,\u001b[0m \u001b[0mself\u001b[0m\u001b[0;34m.\u001b[0m\u001b[0mvalues\u001b[0m \u001b[0;34m=\u001b[0m \u001b[0mself\u001b[0m\u001b[0;34m.\u001b[0m\u001b[0mcheck_fields\u001b[0m\u001b[0;34m(\u001b[0m\u001b[0mfields\u001b[0m\u001b[0;34m,\u001b[0m \u001b[0mvalues\u001b[0m\u001b[0;34m)\u001b[0m\u001b[0;34m\u001b[0m\u001b[0m\n\u001b[0m\u001b[1;32m    184\u001b[0m \u001b[0;34m\u001b[0m\u001b[0m\n\u001b[1;32m    185\u001b[0m         self.ui = GUItk(msg, title, self.fields, self.values,\n",
      "\u001b[0;31mTypeError\u001b[0m: 'NoneType' object is not iterable"
     ]
    }
   ],
   "source": [
    "multpasswordbox(msg='Fill in values for the fields.', title=' ', fields=(), values=())"
   ]
  },
  {
   "cell_type": "code",
   "execution_count": 44,
   "metadata": {
    "collapsed": false
   },
   "outputs": [
    {
     "name": "stdout",
     "output_type": "stream",
     "text": [
      "['31232', 'xcx2', 'dasda']\n"
     ]
    }
   ],
   "source": [
    "msg = \"Enter logon information\"\n",
    "title = \"Demo of multpasswordbox\"\n",
    "fieldNames = [\"Server ID\", \"User ID\", \"Password\"]\n",
    "fieldValues = []  # we start with blanks for the values\n",
    "fieldValues = multpasswordbox(msg,title, fieldNames)\n",
    "print(fieldValues)"
   ]
  },
  {
   "cell_type": "code",
   "execution_count": 45,
   "metadata": {
    "collapsed": false
   },
   "outputs": [
    {
     "data": {
      "text/plain": [
       "''"
      ]
     },
     "execution_count": 45,
     "metadata": {},
     "output_type": "execute_result"
    }
   ],
   "source": [
    "passwordbox(msg='Enter your password.', title=' ', default='', image=None, root=None)"
   ]
  },
  {
   "cell_type": "code",
   "execution_count": 46,
   "metadata": {
    "collapsed": false
   },
   "outputs": [
    {
     "data": {
      "text/plain": [
       "u'sdsfd saf sfvx dsf'"
      ]
     },
     "execution_count": 46,
     "metadata": {},
     "output_type": "execute_result"
    }
   ],
   "source": [
    "textbox(msg='', title=' ', text='', codebox=0)"
   ]
  },
  {
   "cell_type": "code",
   "execution_count": 47,
   "metadata": {
    "collapsed": false
   },
   "outputs": [
    {
     "data": {
      "text/plain": [
       "True"
      ]
     },
     "execution_count": 47,
     "metadata": {},
     "output_type": "execute_result"
    }
   ],
   "source": [
    "ynbox(msg='Shall I continue?', title=' ', choices=('Yes', 'No'), image=None)"
   ]
  },
  {
   "cell_type": "code",
   "execution_count": 54,
   "metadata": {
    "collapsed": false
   },
   "outputs": [
    {
     "data": {
      "text/plain": [
       "<function dir>"
      ]
     },
     "execution_count": 54,
     "metadata": {},
     "output_type": "execute_result"
    }
   ],
   "source": [
    "dir"
   ]
  },
  {
   "cell_type": "code",
   "execution_count": 55,
   "metadata": {
    "collapsed": false
   },
   "outputs": [
    {
     "name": "stdout",
     "output_type": "stream",
     "text": [
      "\u001b[0m\u001b[01;35m2018-08-09 12-43-16.flv\u001b[0m\r\n",
      "\u001b[01;34manaconda2\u001b[0m/\r\n",
      "\u001b[01;34mAnacondaProjects\u001b[0m/\r\n",
      "anant_updated.xlsx\r\n",
      "\u001b[01;32ma.out\u001b[0m*\r\n",
      "chatbot.py\r\n",
      "\u001b[01;34mcuda-workspace\u001b[0m/\r\n",
      "\u001b[34;42mDell_Inspiron\u001b[0m/\r\n",
      "\u001b[01;34mDESH\u001b[0m/\r\n",
      "\u001b[01;34mDesktop\u001b[0m/\r\n",
      "\u001b[01;34mDocuments\u001b[0m/\r\n",
      "\u001b[01;34mDownloads\u001b[0m/\r\n",
      "EasyGui_notes.ipynb\r\n",
      "Gender_classification_376.doc\r\n",
      "hs_err_pid3845.log\r\n",
      "\u001b[01;34mlex-order-coffee-validation\u001b[0m/\r\n",
      "lex.yy.c\r\n",
      "Loan_wavier.pdf\r\n",
      "message.txt\r\n",
      "\u001b[01;34mMusic\u001b[0m/\r\n",
      "myprog.l\r\n",
      "neo.iso\r\n",
      "new_start.docx\r\n",
      "NIKHIL_1000.pdf\r\n",
      "\u001b[01;34mnltk_data\u001b[0m/\r\n",
      "\u001b[01;34mNVIDIA_CUDA-8.0_Samples\u001b[0m/\r\n",
      "\u001b[01;34mnvvp_workspace\u001b[0m/\r\n",
      "Pdf_express_output.pdf\r\n",
      "\u001b[01;34mPhD\u001b[0m/\r\n",
      "\u001b[01;34mPictures\u001b[0m/\r\n",
      "\u001b[01;34mPublic\u001b[0m/\r\n",
      "python_paper.docx\r\n",
      "python_syllabus.docx\r\n",
      "re-registered backlog Summer Term Instrumentation.xls\r\n",
      "re-registered backlog Summer Term T.Y.B.Tech.xlsx\r\n",
      "research_data.xlsx\r\n",
      "results_filters_50.xlsx\r\n",
      "results_filters_Occl_50.xlsx\r\n",
      "results_filters_Yale_b.xlsx\r\n",
      "results_yale_b_unoccluded.docx\r\n",
      "\u001b[01;32mrpiimage.img\u001b[0m*\r\n",
      "\u001b[01;32ms2_4.jpg\u001b[0m*\r\n",
      "Sayali_lisence1.pdf\r\n",
      "Sayali_lisence.pdf\r\n",
      "sending email.ipynb\r\n",
      "Statisitics & Machine learning.docx\r\n",
      "\u001b[01;34msyllabus\u001b[0m/\r\n",
      "\u001b[01;34mTemplates\u001b[0m/\r\n",
      "\u001b[01;34mtest1\u001b[0m/\r\n",
      "test.l\r\n",
      "Untitled1.ipynb\r\n",
      "Untitled2.ipynb\r\n",
      "Untitled.ipynb\r\n",
      "\u001b[01;34mVideos\u001b[0m/\r\n"
     ]
    }
   ],
   "source": [
    "ls"
   ]
  },
  {
   "cell_type": "code",
   "execution_count": null,
   "metadata": {
    "collapsed": true
   },
   "outputs": [],
   "source": []
  }
 ],
 "metadata": {
  "kernelspec": {
   "display_name": "Python 2",
   "language": "python",
   "name": "python2"
  },
  "language_info": {
   "codemirror_mode": {
    "name": "ipython",
    "version": 2
   },
   "file_extension": ".py",
   "mimetype": "text/x-python",
   "name": "python",
   "nbconvert_exporter": "python",
   "pygments_lexer": "ipython2",
   "version": "2.7.13"
  }
 },
 "nbformat": 4,
 "nbformat_minor": 2
}
