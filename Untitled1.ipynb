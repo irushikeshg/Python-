{
 "cells": [
  {
   "cell_type": "code",
   "execution_count": 15,
   "metadata": {
    "collapsed": false
   },
   "outputs": [
    {
     "name": "stdout",
     "output_type": "stream",
     "text": [
      "how many students enter are expected: 3\n",
      "Enter students name: pratik\n",
      "Enter students branch: mech\n",
      "Enter students div: i\n",
      "Enter students UID: 12312\n",
      "Enter students roll: 1\n",
      "Enter students name: pranav\n",
      "Enter students branch: comp\n",
      "Enter students div: w\n",
      "Enter students UID: q\n",
      "Enter students roll: 2\n",
      "Enter students name: rahul\n",
      "Enter students branch: it\n",
      "Enter students div: q\n",
      "Enter students UID: 213\n",
      "Enter students roll: 3\n",
      "{'1': 'pratik, mech, i, 12312', '3': 'rahul, it, q, 213', '2': 'pranav, comp, w, q'}\n",
      "enter valide students roll to search in database:3\n"
     ]
    },
    {
     "data": {
      "text/plain": [
       "'rahul, it, q, 213'"
      ]
     },
     "execution_count": 15,
     "metadata": {},
     "output_type": "execute_result"
    }
   ],
   "source": [
    "name=[]\n",
    "branch =[]\n",
    "rollno=[]\n",
    "uid=[]\n",
    "div=[]\n",
    "database={}\n",
    "i=0\n",
    "m = int(input('how many students enter are expected: '))\n",
    "while i<m:\n",
    "    n = raw_input(\"Enter students name: \")\n",
    "    b = raw_input(\"Enter students branch: \")\n",
    "    d = raw_input(\"Enter students div: \")\n",
    "    u = raw_input(\"Enter students UID: \")\n",
    "    r = raw_input(\"Enter students roll: \")\n",
    "    #print(n,b,d,u,r)\n",
    "    name.append(n)\n",
    "    branch.append(b)\n",
    "    div.append(d)\n",
    "    uid.append(u)\n",
    "    rollno.append(r)\n",
    "    i+=1\n",
    "for roll in range(len(rollno)):\n",
    "    database[rollno[roll]] = name[roll]+', '+branch[roll]+', '+div[roll]+', '+uid[roll]\n",
    "print(database)\n",
    "searchroll = raw_input(\"enter valide students roll to search in database:\")\n",
    "database[searchroll]\n",
    "#if roll>70:\n",
    "#    print('Invalid Roll Number.\\nPlease try again.')\n",
    "#'Sujit', 'Instru', 'I', '18071032M09926', 902)"
   ]
  },
  {
   "cell_type": "code",
   "execution_count": 11,
   "metadata": {
    "collapsed": false
   },
   "outputs": [
    {
     "data": {
      "text/plain": [
       "'Pratik, Mech, R, 4432131'"
      ]
     },
     "execution_count": 11,
     "metadata": {},
     "output_type": "execute_result"
    }
   ],
   "source": [
    "database[902]"
   ]
  },
  {
   "cell_type": "code",
   "execution_count": 5,
   "metadata": {
    "collapsed": false
   },
   "outputs": [
    {
     "name": "stdout",
     "output_type": "stream",
     "text": [
      "('Name of student: ', 'Sujit', 'Branch of a student: ', 'Instru')\n"
     ]
    }
   ],
   "source": [
    "print('Name of student: ',name,'Branch of a student: ',branch)\n",
    "#print('Branch of a student: ',branch)"
   ]
  },
  {
   "cell_type": "code",
   "execution_count": 9,
   "metadata": {
    "collapsed": false
   },
   "outputs": [
    {
     "name": "stdout",
     "output_type": "stream",
     "text": [
      "hi..hi..hi..\n"
     ]
    }
   ],
   "source": [
    "print('hi..'*3)"
   ]
  },
  {
   "cell_type": "code",
   "execution_count": 10,
   "metadata": {
    "collapsed": false
   },
   "outputs": [
    {
     "name": "stdout",
     "output_type": "stream",
     "text": [
      "20\n"
     ]
    }
   ],
   "source": [
    "print(5*4)"
   ]
  },
  {
   "cell_type": "code",
   "execution_count": 12,
   "metadata": {
    "collapsed": false
   },
   "outputs": [
    {
     "data": {
      "text/plain": [
       "5120"
      ]
     },
     "execution_count": 12,
     "metadata": {},
     "output_type": "execute_result"
    }
   ],
   "source": [
    "5*2**10"
   ]
  },
  {
   "cell_type": "code",
   "execution_count": 18,
   "metadata": {
    "collapsed": false
   },
   "outputs": [
    {
     "name": "stdout",
     "output_type": "stream",
     "text": [
      "enter roll number: 4\n",
      "enter roll number: 12\n",
      "enter roll number: 2\n",
      "enter roll number: 5\n",
      "enter roll number: 5\n",
      "enter roll number: 3\n",
      "enter roll number: 45\n",
      "enter roll number: 56\n",
      "enter roll number: 4\n",
      "enter roll number: 8\n"
     ]
    }
   ],
   "source": [
    "i=0\n",
    "roll = []\n",
    "while(i<10):\n",
    "    x = int(input('enter roll number: '))\n",
    "    roll.append(x)\n",
    "    i+=1"
   ]
  },
  {
   "cell_type": "code",
   "execution_count": 19,
   "metadata": {
    "collapsed": false
   },
   "outputs": [
    {
     "data": {
      "text/plain": [
       "[4, 12, 2, 5, 5, 3, 45, 56, 4, 8]"
      ]
     },
     "execution_count": 19,
     "metadata": {},
     "output_type": "execute_result"
    }
   ],
   "source": [
    "roll"
   ]
  },
  {
   "cell_type": "code",
   "execution_count": null,
   "metadata": {
    "collapsed": true
   },
   "outputs": [],
   "source": []
  }
 ],
 "metadata": {
  "kernelspec": {
   "display_name": "Python 2",
   "language": "python",
   "name": "python2"
  },
  "language_info": {
   "codemirror_mode": {
    "name": "ipython",
    "version": 2
   },
   "file_extension": ".py",
   "mimetype": "text/x-python",
   "name": "python",
   "nbconvert_exporter": "python",
   "pygments_lexer": "ipython2",
   "version": "2.7.13"
  }
 },
 "nbformat": 4,
 "nbformat_minor": 2
}
